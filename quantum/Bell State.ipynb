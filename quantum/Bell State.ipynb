{
 "cells": [
  {
   "cell_type": "markdown",
   "id": "0a1d05fd",
   "metadata": {},
   "source": [
    "# Bell State\n",
    "\n",
    "[Back](https://mark1626.github.io/knowledge/)\n",
    "\n",
    "The Bell states are a specific quantum states of two qubits that represent the quantum entanglement\n",
    "\n",
    "Bell state can be used to represent GHZ state\n",
    "\n"
   ]
  },
  {
   "cell_type": "code",
   "execution_count": 1,
   "id": "068e2fdd",
   "metadata": {},
   "outputs": [
    {
     "data": {
      "image/png": "[encoded data removed]",
      "text/plain": [
       "<Figure size 206.852x144.48 with 1 Axes>"
      ]
     },
     "execution_count": 1,
     "metadata": {},
     "output_type": "execute_result"
    }
   ],
   "source": [
    "from qiskit import QuantumCircuit\n",
    "\n",
    "circuit = QuantumCircuit(2)\n",
    "circuit.h(0)\n",
    "circuit.cx(0, 1)\n",
    "\n",
    "circuit.draw(\"mpl\")"
   ]
  },
  {
   "cell_type": "markdown",
   "id": "9dea19e4",
   "metadata": {},
   "source": [
    "## Simulating an ideal circuit"
   ]
  },
  {
   "cell_type": "code",
   "execution_count": 2,
   "id": "d8735c43",
   "metadata": {},
   "outputs": [
    {
     "data": {
      "text/latex": [
       "$$\n",
       "\n",
       "\\begin{bmatrix}\n",
       "\\tfrac{1}{\\sqrt{2}} & 0 & 0 & \\tfrac{1}{\\sqrt{2}}  \\\\\n",
       " \\end{bmatrix}\n",
       "$$"
      ],
      "text/plain": [
       "<IPython.core.display.Latex object>"
      ]
     },
     "execution_count": 2,
     "metadata": {},
     "output_type": "execute_result"
    }
   ],
   "source": [
    "from qiskit.quantum_info import Statevector\n",
    "from qiskit.visualization import array_to_latex\n",
    "\n",
    "state = Statevector.from_int(0, 2**2)\n",
    "state = state.evolve(circuit)\n",
    "\n",
    "array_to_latex(state)\n"
   ]
  },
  {
   "cell_type": "markdown",
   "id": "a0062f46",
   "metadata": {},
   "source": [
    "## References\n",
    "\n",
    "- [Bell State](https://en.wikipedia.org/wiki/Bell_state)\n"
   ]
  }
 ],
 "metadata": {
  "kernelspec": {
   "display_name": "Python 3 (ipykernel)",
   "language": "python",
   "name": "python3"
  },
  "language_info": {
   "codemirror_mode": {
    "name": "ipython",
    "version": 3
   },
   "file_extension": ".py",
   "mimetype": "text/x-python",
   "name": "python",
   "nbconvert_exporter": "python",
   "pygments_lexer": "ipython3",
   "version": "3.9.7"
  },
  "toc": {
   "base_numbering": 1,
   "nav_menu": {},
   "number_sections": true,
   "sideBar": true,
   "skip_h1_title": false,
   "title_cell": "Table of Contents",
   "title_sidebar": "Contents",
   "toc_cell": false,
   "toc_position": {},
   "toc_section_display": true,
   "toc_window_display": false
  }
 },
 "nbformat": 4,
 "nbformat_minor": 5
}
