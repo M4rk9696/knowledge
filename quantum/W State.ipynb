{
 "cells": [
  {
   "cell_type": "markdown",
   "id": "72c854a0",
   "metadata": {},
   "source": [
    "# W State\n",
    "\n",
    "[Back](https://mark1626.github.io/knowledge/)\n",
    "\n",
    "$$ \\vert W \\rangle = \\frac{1}{\\sqrt3} (\\vert 001 \\rangle) + \\vert 010 \\rangle + \\vert 100 \\rangle)$$\n",
    "\n",
    "W state is an entangled quantum state of three qubits\n"
   ]
  },
  {
   "cell_type": "code",
   "execution_count": 1,
   "id": "265a21a6",
   "metadata": {},
   "outputs": [],
   "source": [
    "from qiskit import QuantumCircuit\n",
    "\n",
    "circuit = QuantumCircuit(3)"
   ]
  },
  {
   "cell_type": "code",
   "execution_count": 2,
   "id": "9113982c",
   "metadata": {},
   "outputs": [
    {
     "data": {
      "text/plain": [
       "<qiskit.circuit.instructionset.InstructionSet at 0x7f00c09f9fd0>"
      ]
     },
     "execution_count": 2,
     "metadata": {},
     "output_type": "execute_result"
    }
   ],
   "source": [
    "circuit.h(1)\n",
    "circuit.cx(1, 2)\n",
    "circuit.cx(0, 1)\n",
    "circuit.x(0)"
   ]
  },
  {
   "cell_type": "code",
   "execution_count": 3,
   "id": "4530b8fc",
   "metadata": {},
   "outputs": [
    {
     "data": {
      "image/png": "[encoded data removed]",
      "text/plain": [
       "<Figure size 327.397x204.68 with 1 Axes>"
      ]
     },
     "execution_count": 3,
     "metadata": {},
     "output_type": "execute_result"
    }
   ],
   "source": [
    "circuit.draw(\"mpl\")"
   ]
  },
  {
   "cell_type": "markdown",
   "id": "8383b995",
   "metadata": {},
   "source": [
    "## References\n",
    "\n",
    "- [W State](https://en.wikipedia.org/wiki/W_state)"
   ]
  },
  {
   "cell_type": "code",
   "execution_count": null,
   "id": "d5d1449b",
   "metadata": {},
   "outputs": [],
   "source": []
  }
 ],
 "metadata": {
  "kernelspec": {
   "display_name": "Python 3 (ipykernel)",
   "language": "python",
   "name": "python3"
  },
  "language_info": {
   "codemirror_mode": {
    "name": "ipython",
    "version": 3
   },
   "file_extension": ".py",
   "mimetype": "text/x-python",
   "name": "python",
   "nbconvert_exporter": "python",
   "pygments_lexer": "ipython3",
   "version": "3.9.7"
  },
  "toc": {
   "base_numbering": 1,
   "nav_menu": {},
   "number_sections": true,
   "sideBar": true,
   "skip_h1_title": false,
   "title_cell": "Table of Contents",
   "title_sidebar": "Contents",
   "toc_cell": false,
   "toc_position": {},
   "toc_section_display": true,
   "toc_window_display": false
  }
 },
 "nbformat": 4,
 "nbformat_minor": 5
}
