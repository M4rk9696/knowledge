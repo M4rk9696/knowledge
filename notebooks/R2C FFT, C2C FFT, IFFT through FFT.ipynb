{
 "cells": [
  {
   "cell_type": "code",
   "execution_count": 1,
   "id": "751c63f8",
   "metadata": {
    "ExecuteTime": {
     "end_time": "2023-01-19T06:49:06.708755Z",
     "start_time": "2023-01-19T06:49:06.630559Z"
    }
   },
   "outputs": [],
   "source": [
    "from scipy import fft"
   ]
  },
  {
   "cell_type": "markdown",
   "id": "06fda937",
   "metadata": {},
   "source": [
    "# 1D FFT\n",
    "\n",
    "## R2C FFT"
   ]
  },
  {
   "cell_type": "code",
   "execution_count": 2,
   "id": "9b0a2a2f",
   "metadata": {
    "ExecuteTime": {
     "end_time": "2023-01-19T06:49:06.712548Z",
     "start_time": "2023-01-19T06:49:06.709890Z"
    }
   },
   "outputs": [
    {
     "name": "stdout",
     "output_type": "stream",
     "text": [
      "Signal: [1, 2, 3, 4, 5, 6, 7, 8]\n",
      "R2C FFT: [36.-0.j         -4.+9.65685425j -4.+4.j         -4.+1.65685425j\n",
      " -4.-0.j         -4.-1.65685425j -4.-4.j         -4.-9.65685425j]\n"
     ]
    }
   ],
   "source": [
    "N = 8\n",
    "p = range(1, N+1)\n",
    "fp = fft.fft(p)\n",
    "\n",
    "print(f\"Signal: {list(p)}\")\n",
    "print(f\"R2C FFT: {fp}\")\n"
   ]
  },
  {
   "cell_type": "markdown",
   "id": "8734acda",
   "metadata": {},
   "source": [
    "## R2C FFT with C2C FFT\n",
    "\n",
    "R2C FFT can be computed from a C2C FFT by keeping the imaginary part as 0\n"
   ]
  },
  {
   "cell_type": "code",
   "execution_count": 3,
   "id": "593cd8ff",
   "metadata": {
    "ExecuteTime": {
     "end_time": "2023-01-19T06:49:06.721525Z",
     "start_time": "2023-01-19T06:49:06.713460Z"
    }
   },
   "outputs": [
    {
     "name": "stdout",
     "output_type": "stream",
     "text": [
      "FFT [36.+0.j         -4.+9.65685425j -4.+4.j         -4.+1.65685425j\n",
      " -4.+0.j         -4.-1.65685425j -4.-4.j         -4.-9.65685425j]\n",
      "InvFFT: [1.+0.j 2.+0.j 3.+0.j 4.+0.j 5.+0.j 6.+0.j 7.+0.j 8.+0.j]\n"
     ]
    }
   ],
   "source": [
    "p2 = [complex(pi, 0) for pi in p]\n",
    "fp2 = fft.fft(p2)\n",
    "\n",
    "print(f\"FFT {fp2}\")\n",
    "print(f\"InvFFT: {fft.ifft(fp2)}\")\n"
   ]
  },
  {
   "cell_type": "markdown",
   "id": "dbf517c5",
   "metadata": {},
   "source": [
    "## IFFT using FFT\n",
    "\n",
    "Inverse FFT can be calculated from FFT by\n",
    "1. Swap the real and imaginary part\n",
    "2. Calculate FFT\n",
    "3. Swap the real and imaginary part\n",
    "4. Scaled down by N\n"
   ]
  },
  {
   "cell_type": "code",
   "execution_count": 4,
   "id": "f4e4a7ae",
   "metadata": {
    "ExecuteTime": {
     "end_time": "2023-01-19T06:49:06.730032Z",
     "start_time": "2023-01-19T06:49:06.722843Z"
    }
   },
   "outputs": [
    {
     "name": "stdout",
     "output_type": "stream",
     "text": [
      "[(1+0j), (2+0j), (3+0j), (4+0j), (5+0j), (6+0j), (7+0j), (8+0j)]\n"
     ]
    }
   ],
   "source": [
    "reorder = [complex(pi.imag, pi.real) for pi in fp2]\n",
    "freorder = fft.fft(reorder)\n",
    "inv_scaled = [complex(pi.imag, pi.real) for pi in freorder]\n",
    "inv = [complex(pi.real / N, pi.imag / N) for pi in inv_scaled]\n",
    "print(inv)\n"
   ]
  },
  {
   "cell_type": "markdown",
   "id": "98d2bbdf",
   "metadata": {},
   "source": [
    "# 2D FFT\n",
    "\n",
    "## R2C FFT\n"
   ]
  },
  {
   "cell_type": "code",
   "execution_count": 5,
   "id": "178c41dc",
   "metadata": {
    "ExecuteTime": {
     "end_time": "2023-01-19T06:49:06.740342Z",
     "start_time": "2023-01-19T06:49:06.731004Z"
    }
   },
   "outputs": [
    {
     "name": "stdout",
     "output_type": "stream",
     "text": [
      "[range(1, 9), range(1, 9), range(1, 9), range(1, 9), range(1, 9), range(1, 9), range(1, 9), range(1, 9)]\n",
      "FFT: [[288. -0.j       -32.+77.254834j -32.+32.j       -32.+13.254834j\n",
      "  -32. -0.j       -32.-13.254834j -32.-32.j       -32.-77.254834j]\n",
      " [  0. +0.j         0. +0.j         0. +0.j         0. +0.j\n",
      "    0. +0.j         0. -0.j         0. -0.j         0. -0.j      ]\n",
      " [  0. +0.j         0. +0.j         0. +0.j         0. +0.j\n",
      "    0. +0.j         0. -0.j         0. -0.j         0. -0.j      ]\n",
      " [  0. +0.j         0. +0.j         0. +0.j         0. +0.j\n",
      "    0. +0.j         0. -0.j         0. -0.j         0. -0.j      ]\n",
      " [  0. -0.j         0. +0.j         0. +0.j         0. +0.j\n",
      "    0. -0.j         0. -0.j         0. -0.j         0. -0.j      ]\n",
      " [  0. -0.j         0. +0.j         0. +0.j         0. +0.j\n",
      "    0. -0.j         0. -0.j         0. -0.j         0. -0.j      ]\n",
      " [  0. -0.j         0. +0.j         0. +0.j         0. +0.j\n",
      "    0. -0.j         0. -0.j         0. -0.j         0. -0.j      ]\n",
      " [  0. -0.j         0. +0.j         0. +0.j         0. +0.j\n",
      "    0. -0.j         0. -0.j         0. -0.j         0. -0.j      ]]\n",
      "IFFT: [[1.+0.j 2.+0.j 3.+0.j 4.+0.j 5.+0.j 6.+0.j 7.+0.j 8.+0.j]\n",
      " [1.+0.j 2.+0.j 3.+0.j 4.+0.j 5.+0.j 6.+0.j 7.+0.j 8.+0.j]\n",
      " [1.+0.j 2.+0.j 3.+0.j 4.+0.j 5.+0.j 6.+0.j 7.+0.j 8.+0.j]\n",
      " [1.+0.j 2.+0.j 3.+0.j 4.+0.j 5.+0.j 6.+0.j 7.+0.j 8.+0.j]\n",
      " [1.+0.j 2.+0.j 3.+0.j 4.+0.j 5.+0.j 6.+0.j 7.+0.j 8.+0.j]\n",
      " [1.+0.j 2.+0.j 3.+0.j 4.+0.j 5.+0.j 6.+0.j 7.+0.j 8.+0.j]\n",
      " [1.+0.j 2.+0.j 3.+0.j 4.+0.j 5.+0.j 6.+0.j 7.-0.j 8.+0.j]\n",
      " [1.+0.j 2.+0.j 3.+0.j 4.+0.j 5.+0.j 6.+0.j 7.+0.j 8.+0.j]]\n"
     ]
    }
   ],
   "source": [
    "xf = [8] * N\n",
    "\n",
    "for i in range(N):\n",
    "    xf[i] = range(1, N+1)\n",
    "\n",
    "Z = fft.fft2(xf)\n",
    "print(f\"{xf}\")\n",
    "print(f\"FFT: {Z}\")\n",
    "print(f\"IFFT: {fft.ifft2(Z)}\")"
   ]
  },
  {
   "cell_type": "markdown",
   "id": "0dcdb69d",
   "metadata": {},
   "source": [
    "## R2C FFT with C2C FFT\n",
    "\n",
    "R2C FFT can be computed from a C2C FFT by keeping the imaginary part as 0\n"
   ]
  },
  {
   "cell_type": "code",
   "execution_count": 6,
   "id": "88a6f2d1",
   "metadata": {
    "ExecuteTime": {
     "end_time": "2023-01-19T06:49:06.749842Z",
     "start_time": "2023-01-19T06:49:06.741282Z"
    }
   },
   "outputs": [
    {
     "name": "stdout",
     "output_type": "stream",
     "text": [
      "[[(1+0j), (2+0j), (3+0j), (4+0j), (5+0j), (6+0j), (7+0j), (8+0j)], [(1+0j), (2+0j), (3+0j), (4+0j), (5+0j), (6+0j), (7+0j), (8+0j)], [(1+0j), (2+0j), (3+0j), (4+0j), (5+0j), (6+0j), (7+0j), (8+0j)], [(1+0j), (2+0j), (3+0j), (4+0j), (5+0j), (6+0j), (7+0j), (8+0j)], [(1+0j), (2+0j), (3+0j), (4+0j), (5+0j), (6+0j), (7+0j), (8+0j)], [(1+0j), (2+0j), (3+0j), (4+0j), (5+0j), (6+0j), (7+0j), (8+0j)], [(1+0j), (2+0j), (3+0j), (4+0j), (5+0j), (6+0j), (7+0j), (8+0j)], [(1+0j), (2+0j), (3+0j), (4+0j), (5+0j), (6+0j), (7+0j), (8+0j)]]\n",
      "FFT: [[288. +0.j       -32.+77.254834j -32.+32.j       -32.+13.254834j\n",
      "  -32. +0.j       -32.-13.254834j -32.-32.j       -32.-77.254834j]\n",
      " [  0. +0.j         0. +0.j         0. +0.j         0. +0.j\n",
      "    0. +0.j         0. +0.j         0. +0.j         0. +0.j      ]\n",
      " [  0. +0.j         0. +0.j         0. +0.j         0. +0.j\n",
      "    0. +0.j         0. +0.j         0. +0.j         0. +0.j      ]\n",
      " [  0. +0.j         0. +0.j         0. +0.j         0. +0.j\n",
      "    0. +0.j         0. +0.j         0. +0.j         0. +0.j      ]\n",
      " [  0. +0.j         0. +0.j         0. +0.j         0. +0.j\n",
      "    0. +0.j         0. +0.j         0. +0.j         0. +0.j      ]\n",
      " [  0. +0.j         0. +0.j         0. +0.j         0. +0.j\n",
      "    0. +0.j         0. +0.j         0. +0.j         0. +0.j      ]\n",
      " [  0. +0.j         0. +0.j         0. +0.j         0. +0.j\n",
      "    0. +0.j         0. +0.j         0. +0.j         0. +0.j      ]\n",
      " [  0. +0.j         0. +0.j         0. +0.j         0. +0.j\n",
      "    0. +0.j         0. +0.j         0. +0.j         0. +0.j      ]]\n",
      "IFFT: [[1.+0.j 2.+0.j 3.+0.j 4.+0.j 5.+0.j 6.+0.j 7.+0.j 8.+0.j]\n",
      " [1.+0.j 2.+0.j 3.+0.j 4.+0.j 5.+0.j 6.+0.j 7.+0.j 8.+0.j]\n",
      " [1.+0.j 2.+0.j 3.+0.j 4.+0.j 5.+0.j 6.+0.j 7.+0.j 8.+0.j]\n",
      " [1.+0.j 2.+0.j 3.+0.j 4.+0.j 5.+0.j 6.+0.j 7.+0.j 8.+0.j]\n",
      " [1.+0.j 2.+0.j 3.+0.j 4.+0.j 5.+0.j 6.+0.j 7.+0.j 8.+0.j]\n",
      " [1.+0.j 2.+0.j 3.+0.j 4.+0.j 5.+0.j 6.+0.j 7.+0.j 8.+0.j]\n",
      " [1.+0.j 2.+0.j 3.+0.j 4.+0.j 5.+0.j 6.+0.j 7.+0.j 8.+0.j]\n",
      " [1.+0.j 2.+0.j 3.+0.j 4.+0.j 5.+0.j 6.+0.j 7.+0.j 8.+0.j]]\n"
     ]
    }
   ],
   "source": [
    "xf = [8] * N\n",
    "\n",
    "for i in range(N):\n",
    "    xf[i] = [complex(j, 0) for j in range(1, N+1)]\n",
    "\n",
    "Z = fft.fft2(xf)\n",
    "print(f\"{xf}\")\n",
    "print(f\"FFT: {Z}\")\n",
    "print(f\"IFFT: {fft.ifft2(Z)}\")"
   ]
  },
  {
   "cell_type": "markdown",
   "id": "c11e3067",
   "metadata": {},
   "source": [
    "## IFFT using FFT\n",
    "\n",
    "Inverse FFT can be calculated from FFT by\n",
    "1. Swap the real and imaginary part\n",
    "2. Calculate FFT\n",
    "3. Swap the real and imaginary part\n",
    "4. Scaled down by N\n"
   ]
  },
  {
   "cell_type": "code",
   "execution_count": 7,
   "id": "c1bdc9bd",
   "metadata": {
    "ExecuteTime": {
     "end_time": "2023-01-19T06:49:06.758936Z",
     "start_time": "2023-01-19T06:49:06.750443Z"
    }
   },
   "outputs": [
    {
     "name": "stdout",
     "output_type": "stream",
     "text": [
      "[[(1+0j), (2+0j), (3+0j), (4+0j), (5+0j), (6+0j), (7+0j), (8+0j)], [(1+0j), (2+0j), (3+0j), (4+0j), (5+0j), (6+0j), (7+0j), (8+0j)], [(1+0j), (2+0j), (3+0j), (4+0j), (5+0j), (6+0j), (7+0j), (8+0j)], [(1+0j), (2+0j), (3+0j), (4+0j), (5+0j), (6+0j), (7+0j), (8+0j)], [(1+0j), (2+0j), (3+0j), (4+0j), (5+0j), (6+0j), (7+0j), (8+0j)], [(1+0j), (2+0j), (3+0j), (4+0j), (5+0j), (6+0j), (7+0j), (8+0j)], [(1+0j), (2+0j), (3+0j), (4+0j), (5+0j), (6+0j), (7+0j), (8+0j)], [(1+0j), (2+0j), (3+0j), (4+0j), (5+0j), (6+0j), (7+0j), (8+0j)]]\n"
     ]
    }
   ],
   "source": [
    "reorder = [8] * N\n",
    "inv = [8] * N\n",
    "inv_scaled = [8] * N\n",
    "\n",
    "for i in range(N):\n",
    "    reorder[i] = [complex(pi.imag, pi.real) for pi in Z[i]]\n",
    "\n",
    "freorder = fft.fft2(reorder)\n",
    "\n",
    "for i in range(N):\n",
    "    inv_scaled[i] = [complex(pi.imag, pi.real) for pi in freorder[i]]\n",
    "\n",
    "for i in range(N):\n",
    "    inv[i] = [complex(pi.real / (N*N), pi.imag / (N*N)) for pi in inv_scaled[i]]\n",
    "\n",
    "print(inv)\n"
   ]
  },
  {
   "cell_type": "markdown",
   "id": "6bdd12cd",
   "metadata": {},
   "source": [
    "## 2D FFT through 1D FFT\n",
    "\n",
    "1. 1D FFT on each row (real to complex)\n",
    "2. 1D FFT on each column resulting from (1) (complex to complex)\n",
    "\n",
    "N x 1D (horizontal) FFTs followed by 4 x 1D (vertical) FFTs, for a total of 2N x 1D FFTs\n"
   ]
  },
  {
   "cell_type": "code",
   "execution_count": null,
   "id": "ba89b00c",
   "metadata": {},
   "outputs": [],
   "source": []
  }
 ],
 "metadata": {
  "kernelspec": {
   "display_name": "Python 3 (ipykernel)",
   "language": "python",
   "name": "python3"
  },
  "language_info": {
   "codemirror_mode": {
    "name": "ipython",
    "version": 3
   },
   "file_extension": ".py",
   "mimetype": "text/x-python",
   "name": "python",
   "nbconvert_exporter": "python",
   "pygments_lexer": "ipython3",
   "version": "3.9.16"
  },
  "varInspector": {
   "cols": {
    "lenName": 16,
    "lenType": 16,
    "lenVar": 40
   },
   "kernels_config": {
    "python": {
     "delete_cmd_postfix": "",
     "delete_cmd_prefix": "del ",
     "library": "var_list.py",
     "varRefreshCmd": "print(var_dic_list())"
    },
    "r": {
     "delete_cmd_postfix": ") ",
     "delete_cmd_prefix": "rm(",
     "library": "var_list.r",
     "varRefreshCmd": "cat(var_dic_list()) "
    }
   },
   "types_to_exclude": [
    "module",
    "function",
    "builtin_function_or_method",
    "instance",
    "_Feature"
   ],
   "window_display": false
  }
 },
 "nbformat": 4,
 "nbformat_minor": 5
}
