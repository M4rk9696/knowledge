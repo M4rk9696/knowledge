{
 "cells": [
  {
   "cell_type": "code",
   "execution_count": 1,
   "id": "404b0dca",
   "metadata": {
    "ExecuteTime": {
     "end_time": "2021-11-29T07:16:36.922870Z",
     "start_time": "2021-11-29T07:16:36.920838Z"
    }
   },
   "outputs": [],
   "source": [
    "#include <stdio.h>\n",
    "#include <string>"
   ]
  },
  {
   "cell_type": "code",
   "execution_count": 2,
   "id": "328883a9",
   "metadata": {
    "ExecuteTime": {
     "end_time": "2021-11-29T07:16:37.362763Z",
     "start_time": "2021-11-29T07:16:37.356863Z"
    }
   },
   "outputs": [],
   "source": [
    "#pragma cling add_include_path(\"/home/nimalanm/Documents/opt/include\")\n",
    "#pragma cling load(\"cfitsio\")\n",
    "#pragma cling load(\"wcs\")"
   ]
  },
  {
   "cell_type": "code",
   "execution_count": 25,
   "id": "dca2252a",
   "metadata": {
    "ExecuteTime": {
     "end_time": "2021-11-29T07:32:47.141739Z",
     "start_time": "2021-11-29T07:32:47.140881Z"
    }
   },
   "outputs": [],
   "source": [
    "#include \"fitsio.h\"\n",
    "#include \"wcslib/wcs.h\"\n",
    "#include \"wcslib/wcshdr.h\""
   ]
  },
  {
   "cell_type": "code",
   "execution_count": 26,
   "id": "c486eb2b",
   "metadata": {
    "ExecuteTime": {
     "end_time": "2021-11-29T07:32:47.986989Z",
     "start_time": "2021-11-29T07:32:47.986165Z"
    }
   },
   "outputs": [],
   "source": [
    "fitsfile *fptr;\n",
    "int status = 0;"
   ]
  },
  {
   "cell_type": "code",
   "execution_count": 27,
   "id": "005a89ba",
   "metadata": {
    "ExecuteTime": {
     "end_time": "2021-11-29T07:32:48.339704Z",
     "start_time": "2021-11-29T07:32:48.337062Z"
    }
   },
   "outputs": [],
   "source": [
    "std::string file = \"image.i.08161181-7039447.taylor.0.restored.fits\";"
   ]
  },
  {
   "cell_type": "code",
   "execution_count": 29,
   "id": "7830c908",
   "metadata": {
    "ExecuteTime": {
     "end_time": "2021-11-29T07:32:53.358598Z",
     "start_time": "2021-11-29T07:32:53.331616Z"
    }
   },
   "outputs": [
    {
     "name": "stdout",
     "output_type": "stream",
     "text": [
      "2048 2048 1 1 \n",
      "Header\n",
      "SIMPLE  =                    T /Standard FITS                                   BITPIX  =                  -32 /Floating point (32 bit)                         NAXIS   =                    4                                                  NAXIS1  =                 2048                                                  NAXIS2  =                 2048                                                  NAXIS3  =                    1                                                  NAXIS4  =                    1                                                  BSCALE  =   1.000000000000E+00 /PHYSICAL = PIXEL*BSCALE + BZERO                 BZERO   =   0.000000000000E+00                                                  BUNIT   = 'Jy/beam '           / Brightness (pixel) unit                        EQUINOX =   2.000000000000E+03                                                  RADESYS = 'FK5     '                                                            LONPOLE =   1.800000000000E+02                                                  LATPOLE =  -7.066242000000E+01                                                  PC1_1   =   1.000000000000E+00                                                  PC2_1   =   0.000000000000E+00                                                  PC3_1   =   0.000000000000E+00                                                  PC4_1   =   0.000000000000E+00                                                  PC1_2   =   0.000000000000E+00                                                  PC2_2   =   1.000000000000E+00                                                  PC3_2   =   0.000000000000E+00                                                  PC4_2   =   0.000000000000E+00                                                  PC1_3   =   0.000000000000E+00                                                  PC2_3   =   0.000000000000E+00                                                  PC3_3   =   1.000000000000E+00                                                  PC4_3   =   0.000000000000E+00                                                  PC1_4   =   0.000000000000E+00                                                  PC2_4   =   0.000000000000E+00                                                  PC3_4   =   0.000000000000E+00                                                  PC4_4   =   1.000000000000E+00                                                  CTYPE1  = 'RA---SIN'                                                            CRVAL1  =   1.240492200000E+02                                                  CDELT1  =  -2.777777777778E-04                                                  CRPIX1  =   1.025000000000E+03                                                  CUNIT1  = 'deg     '                                                            CTYPE2  = 'DEC--SIN'                                                            CRVAL2  =  -7.066242000000E+01                                                  CDELT2  =   2.777777777778E-04                                                  CRPIX2  =   1.025000000000E+03                                                  CUNIT2  = 'deg     '                                                            CTYPE3  = 'FREQ    '                                                            CRVAL3  =   1.443500000000E+09                                                  CDELT3  =   1.000000000000E+00                                                  CRPIX3  =   1.000000000000E+00                                                  CUNIT3  = 'Hz      '                                                            CTYPE4  = 'STOKES  '                                                            CRVAL4  =   1.000000000000E+00                                                  CDELT4  =   1.000000000000E+00                                                  CRPIX4  =   1.000000000000E+00                                                  CUNIT4  = '        '                                                            PV2_1   =   0.000000000000E+00                                                  PV2_2   =   0.000000000000E+00                                                  DATE    = '2021-11-23T07:51:26.773000' /Date FITS file was written              TIMESYS = 'UTC     '           /Time system for HDU                             ORIGIN  = 'ASKAPsoft'                                                           BMAJ    =  0.00220110085398525 / Restoring beam major axis                      BMIN    =   0.0015889124506772 / Restoring beam minor axis                      BPA     =     3.37702454665012 / Restoring beam position angle                  BTYPE   = 'Intensity'          /                                                END                                                                             \n"
     ]
    }
   ],
   "source": [
    "#include <vector>\n",
    "\n",
    "int numAxes = 0;\n",
    "char* hdr;\n",
    "int nkeys;\n",
    "int nexc;\n",
    "\n",
    "try {\n",
    "    \n",
    "    if (!fits_open_image(&fptr, file.c_str(), READONLY, &status)) {\n",
    "\n",
    "        if (fits_get_img_dim(fptr, &numAxes, &status)) {\n",
    "            printf(\"Error reading dimensions \\n\");\n",
    "            return 1;\n",
    "        }\n",
    "        \n",
    "        std::vector<size_t> dimAxes(numAxes, 1);\n",
    "        \n",
    "        if (fits_get_img_size(fptr, numAxes, (long*)dimAxes.data(), &status)) {\n",
    "            printf(\"Unable to read axis size\\n\");\n",
    "            return 1;\n",
    "        }\n",
    "        \n",
    "        // Print our image dimensions\n",
    "        for (int i=0; i<numAxes; i++)\n",
    "            printf(\"%lu \", dimAxes[i]);\n",
    "        printf(\"\\n\");\n",
    "        \n",
    "        // Read the fits headers\n",
    "        fits_hdr2str(fptr, 1, NULL, nexc, &hdr, &nkeys, &status);\n",
    "        if (status) {\n",
    "            printf(\"Error reading header\");\n",
    "            return 1;\n",
    "        }\n",
    "        \n",
    "        printf(\"Header\\n\");\n",
    "        printf(\"%s\\n\", hdr);\n",
    "        \n",
    "        struct wcsprm *localwcs = (struct wcsprm*)calloc(1, sizeof(struct wcsprm));\n",
    "        localwcs->flag=-1;\n",
    "        int localnwcs;\n",
    "        \n",
    "        if (wcsini(true, numAxes, localwcs)) {\n",
    "            printf(\"Error creating WCS\\n\");\n",
    "            return 1;\n",
    "        }\n",
    "        \n",
    "        int relax = 1;\n",
    "        int ctrl = 2;\n",
    "        int nreject;\n",
    "        \n",
    "        // Parse WCS from FITS Header\n",
    "        if (wcspih(hdr, nkeys, relax, ctrl, &nreject, &localnwcs, &localwcs)) {\n",
    "            printf(\"Error parsing WCS Header\");\n",
    "        }\n",
    "        \n",
    "        int stat[NWCSFIX];\n",
    "        if (wcsfix(1, (const int*)dimAxes, localwcs, stat)) {\n",
    "            printf(\"Error fixing WCS\\n\");\n",
    "            return 1;\n",
    "        }\n",
    "        \n",
    "        if (wcsset(localwcs)) {\n",
    "            printf(\"Error creating wcsstruct\");\n",
    "            return 1;\n",
    "        }\n",
    "        \n",
    "        // Cleanup\n",
    "        if (localwcs)  {\n",
    "            wcsvfree(&localnwcs, &localwcs);\n",
    "            wcsfree(localwcs);\n",
    "            free(localwcs);\n",
    "        }\n",
    "        if (hdr) {\n",
    "            free(hdr);\n",
    "        }\n",
    "        fits_close_file(fptr, &status);\n",
    "    } else {\n",
    "        printf(\"Unable to open fits \\n\");\n",
    "        throw 1;\n",
    "    }\n",
    "    \n",
    "} catch(int status) {\n",
    "    printf(\"Execution failed %d \\n\", status);\n",
    "}\n"
   ]
  },
  {
   "cell_type": "code",
   "execution_count": null,
   "id": "1e70b07d",
   "metadata": {},
   "outputs": [],
   "source": []
  }
 ],
 "metadata": {
  "kernelspec": {
   "display_name": "C++14",
   "language": "C++14",
   "name": "xcpp14"
  },
  "language_info": {
   "codemirror_mode": "text/x-c++src",
   "file_extension": ".cpp",
   "mimetype": "text/x-c++src",
   "name": "c++",
   "version": "14"
  },
  "toc": {
   "base_numbering": 1,
   "nav_menu": {},
   "number_sections": true,
   "sideBar": true,
   "skip_h1_title": false,
   "title_cell": "Table of Contents",
   "title_sidebar": "Contents",
   "toc_cell": false,
   "toc_position": {},
   "toc_section_display": true,
   "toc_window_display": false
  }
 },
 "nbformat": 4,
 "nbformat_minor": 5
}
