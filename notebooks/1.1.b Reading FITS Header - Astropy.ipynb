{
 "cells": [
  {
   "cell_type": "code",
   "execution_count": 3,
   "id": "a6e6eed1",
   "metadata": {
    "ExecuteTime": {
     "end_time": "2021-11-28T08:04:57.914102Z",
     "start_time": "2021-11-28T08:04:57.903762Z"
    }
   },
   "outputs": [
    {
     "data": {
      "text/plain": [
       "[<astropy.io.fits.hdu.image.PrimaryHDU object at 0x7fb8d0f55b20>]"
      ]
     },
     "execution_count": 3,
     "metadata": {},
     "output_type": "execute_result"
    }
   ],
   "source": [
    "from astropy.io import fits\n",
    "\n",
    "file = \"image.i.08161181-7039447.taylor.0.restored.fits\";\n",
    "\n",
    "hdus = fits.open(file)\n",
    "hdus"
   ]
  },
  {
   "cell_type": "code",
   "execution_count": 8,
   "id": "7860360d",
   "metadata": {
    "ExecuteTime": {
     "end_time": "2021-11-28T08:07:23.350232Z",
     "start_time": "2021-11-28T08:07:23.346764Z"
    }
   },
   "outputs": [
    {
     "data": {
      "text/plain": [
       "SIMPLE  =                    T /Standard FITS                                   \n",
       "BITPIX  =                  -32 /Floating point (32 bit)                         \n",
       "NAXIS   =                    4                                                  \n",
       "NAXIS1  =                 2048                                                  \n",
       "NAXIS2  =                 2048                                                  \n",
       "NAXIS3  =                    1                                                  \n",
       "NAXIS4  =                    1                                                  \n",
       "BSCALE  =   1.000000000000E+00 /PHYSICAL = PIXEL*BSCALE + BZERO                 \n",
       "BZERO   =   0.000000000000E+00                                                  \n",
       "                                                                                \n",
       "BUNIT   = 'Jy/beam '           / Brightness (pixel) unit                        \n",
       "EQUINOX =   2.000000000000E+03                                                  \n",
       "RADESYS = 'FK5     '                                                            \n",
       "LONPOLE =   1.800000000000E+02                                                  \n",
       "LATPOLE =  -7.066242000000E+01                                                  \n",
       "PC1_1   =   1.000000000000E+00                                                  \n",
       "PC2_1   =   0.000000000000E+00                                                  \n",
       "PC3_1   =   0.000000000000E+00                                                  \n",
       "PC4_1   =   0.000000000000E+00                                                  \n",
       "PC1_2   =   0.000000000000E+00                                                  \n",
       "PC2_2   =   1.000000000000E+00                                                  \n",
       "PC3_2   =   0.000000000000E+00                                                  \n",
       "PC4_2   =   0.000000000000E+00                                                  \n",
       "PC1_3   =   0.000000000000E+00                                                  \n",
       "PC2_3   =   0.000000000000E+00                                                  \n",
       "PC3_3   =   1.000000000000E+00                                                  \n",
       "PC4_3   =   0.000000000000E+00                                                  \n",
       "PC1_4   =   0.000000000000E+00                                                  \n",
       "PC2_4   =   0.000000000000E+00                                                  \n",
       "PC3_4   =   0.000000000000E+00                                                  \n",
       "PC4_4   =   1.000000000000E+00                                                  \n",
       "CTYPE1  = 'RA---SIN'                                                            \n",
       "CRVAL1  =   1.240492200000E+02                                                  \n",
       "CDELT1  =  -2.777777777778E-04                                                  \n",
       "CRPIX1  =   1.025000000000E+03                                                  \n",
       "CUNIT1  = 'deg     '                                                            \n",
       "CTYPE2  = 'DEC--SIN'                                                            \n",
       "CRVAL2  =  -7.066242000000E+01                                                  \n",
       "CDELT2  =   2.777777777778E-04                                                  \n",
       "CRPIX2  =   1.025000000000E+03                                                  \n",
       "CUNIT2  = 'deg     '                                                            \n",
       "CTYPE3  = 'FREQ    '                                                            \n",
       "CRVAL3  =   1.443500000000E+09                                                  \n",
       "CDELT3  =   1.000000000000E+00                                                  \n",
       "CRPIX3  =   1.000000000000E+00                                                  \n",
       "CUNIT3  = 'Hz      '                                                            \n",
       "CTYPE4  = 'STOKES  '                                                            \n",
       "CRVAL4  =   1.000000000000E+00                                                  \n",
       "CDELT4  =   1.000000000000E+00                                                  \n",
       "CRPIX4  =   1.000000000000E+00                                                  \n",
       "CUNIT4  = '        '                                                            \n",
       "PV2_1   =   0.000000000000E+00                                                  \n",
       "PV2_2   =   0.000000000000E+00                                                  \n",
       "DATE    = '2021-11-23T07:51:26.773000' /Date FITS file was written              \n",
       "TIMESYS = 'UTC     '           /Time system for HDU                             \n",
       "ORIGIN  = 'ASKAPsoft'                                                           \n",
       "BMAJ    =  0.00220110085398525 / Restoring beam major axis                      \n",
       "BMIN    =   0.0015889124506772 / Restoring beam minor axis                      \n",
       "BPA     =     3.37702454665012 / Restoring beam position angle                  \n",
       "BTYPE   = 'Intensity'          /                                                "
      ]
     },
     "execution_count": 8,
     "metadata": {},
     "output_type": "execute_result"
    }
   ],
   "source": [
    "hdus[0].header"
   ]
  },
  {
   "cell_type": "code",
   "execution_count": null,
   "id": "1ad6aeaf",
   "metadata": {},
   "outputs": [],
   "source": []
  }
 ],
 "metadata": {
  "kernelspec": {
   "display_name": "Python 3.9.7 64-bit ('astronomy': conda)",
   "language": "python",
   "name": "python39764bitastronomyconda1a83fb8faff445d891c5b1bed4ebf545"
  },
  "language_info": {
   "codemirror_mode": {
    "name": "ipython",
    "version": 3
   },
   "file_extension": ".py",
   "mimetype": "text/x-python",
   "name": "python",
   "nbconvert_exporter": "python",
   "pygments_lexer": "ipython3",
   "version": "3.9.7"
  },
  "toc": {
   "base_numbering": 1,
   "nav_menu": {},
   "number_sections": true,
   "sideBar": true,
   "skip_h1_title": false,
   "title_cell": "Table of Contents",
   "title_sidebar": "Contents",
   "toc_cell": false,
   "toc_position": {},
   "toc_section_display": true,
   "toc_window_display": false
  }
 },
 "nbformat": 4,
 "nbformat_minor": 5
}
