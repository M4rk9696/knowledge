{
 "cells": [
  {
   "cell_type": "markdown",
   "id": "d76f8398",
   "metadata": {},
   "source": [
    "# Normal Equations\n",
    "\n",
    "To solve the linear equation $A x = b$\n",
    "\n",
    "We multiply by $A^T$ on both sides to have\n",
    "\n",
    "$A^T A x = A^T b$\n",
    "\n",
    "$x = (A^T A)^{-1}A^T b$\n"
   ]
  },
  {
   "cell_type": "markdown",
   "id": "f05bceb6",
   "metadata": {},
   "source": [
    "For this example we are going to solving the fibonnaci difference equation\n",
    "\n",
    "$F_{n} = F_{n-1} + F_{n-2} + F_{n-3} + F_{n-4}$\n",
    "\n",
    "$\\begin{bmatrix} 1 & 1 & 0 & 0 \\\\ 0 & 1 & 1 & 0 \\\\ 0 & 0 & 1 & 1 \\\\ 1 & 0 & 0 & 0 \\end{bmatrix} ^ 7 . \\begin{bmatrix} 1 \\\\ 1 \\\\ 1 \\\\ 1 \\end{bmatrix} = \\begin{bmatrix} F_{n+3} \\\\ F_{n+2} \\\\ F_{n+1} \\\\ F_{n} \\end{bmatrix}$\n",
    "\n",
    "$\\begin{bmatrix} 21 & 22 & 27 & 16 \\\\ 16 & 21 & 22 & 11 \\\\ 11 & 16 & 21 & 11 \\\\ 11 & 11 & 16 & 10 \\end{bmatrix} . \\begin{bmatrix} a \\\\ b \\\\ c \\\\ d \\end{bmatrix} = \\begin{bmatrix} 86 \\\\ 70 \\\\ 59 \\\\ 48 \\end{bmatrix}$\n"
   ]
  },
  {
   "cell_type": "code",
   "execution_count": 1,
   "id": "e7e95104",
   "metadata": {},
   "outputs": [
    {
     "name": "stdout",
     "output_type": "stream",
     "text": [
      "A Matrix: \n",
      "[[21 22 27 16]\n",
      " [16 21 22 11]\n",
      " [11 16 21 11]\n",
      " [11 11 16 10]]\n",
      "A Matrix Transpose: \n",
      "[[21 16 11 11]\n",
      " [22 21 16 11]\n",
      " [27 22 21 16]\n",
      " [16 11 11 10]]\n",
      "B Matrix: \n",
      "[[86]\n",
      " [70]\n",
      " [59]\n",
      " [48]]\n"
     ]
    }
   ],
   "source": [
    "import numpy as np\n",
    "import numpy.linalg as nplinalg\n",
    "\n",
    "A = np.array([\n",
    "    [21, 22, 27, 16],\n",
    "    [16, 21, 22, 11],\n",
    "    [11, 16, 21, 11],\n",
    "    [11, 11, 16, 10],\n",
    "])\n",
    "\n",
    "B = np.array([\n",
    "    [86],\n",
    "    [70],\n",
    "    [59],\n",
    "    [48],\n",
    "])\n",
    "\n",
    "A_T = np.transpose(A)\n",
    "\n",
    "print(\"A Matrix: \")\n",
    "print(A)\n",
    "print(\"A Matrix Transpose: \")\n",
    "print(A_T)\n",
    "print(\"B Matrix: \")\n",
    "print(B)"
   ]
  },
  {
   "cell_type": "code",
   "execution_count": 2,
   "id": "eb24f218",
   "metadata": {},
   "outputs": [
    {
     "data": {
      "text/plain": [
       "array([[0.99999974],\n",
       "       [1.0000005 ],\n",
       "       [0.9999998 ],\n",
       "       [1.00000028]])"
      ]
     },
     "execution_count": 2,
     "metadata": {},
     "output_type": "execute_result"
    }
   ],
   "source": [
    "lhs = np.matmul(A_T, A)\n",
    "inv_lhs = nplinalg.inv(lhs)\n",
    "\n",
    "v = np.matmul(inv_lhs, A_T)\n",
    "x = np.matmul(v, B)\n",
    "\n",
    "x\n"
   ]
  },
  {
   "cell_type": "markdown",
   "id": "ef473683",
   "metadata": {},
   "source": [
    "Our result is supposed to be\n",
    "\n",
    "$B = \\begin{bmatrix}1 \\\\ 1\\\\ 1 \\\\ 1 \\end{bmatrix}$\n",
    "\n",
    "excluding the floating point loss in precision this works well\n",
    "\n",
    "### Alternatively in numpy\n",
    "\n",
    "It is much better to use `numpy.linalg.stsq`"
   ]
  },
  {
   "cell_type": "code",
   "execution_count": 3,
   "id": "56f95be7",
   "metadata": {},
   "outputs": [
    {
     "data": {
      "text/plain": [
       "array([[1.],\n",
       "       [1.],\n",
       "       [1.],\n",
       "       [1.]])"
      ]
     },
     "execution_count": 3,
     "metadata": {},
     "output_type": "execute_result"
    }
   ],
   "source": [
    "nplinalg.lstsq(A, B, rcond=None)[0]"
   ]
  },
  {
   "cell_type": "markdown",
   "id": "7641cb8b",
   "metadata": {},
   "source": [
    "### Why can't we just do inverse instead?\n",
    "\n",
    "$x = A^{-1}b$\n",
    "\n",
    "Let's take this case, our X is supposted to be a `4x9` matrix\n",
    "\n",
    "A is a `2x4` matrix\n",
    "\n",
    "$\\begin{bmatrix} 1 & 2 & 3 & 4 \\\\ 3 & 5 & 1 & 2 \\end{bmatrix} . X = \\begin{bmatrix} 1 & 5 & 4 & 5 & 0 & 0 & 0 & 0 & 0 \\\\ 3 & 6 & 4 & 5 & 0 & 0 & 0 & 0 & 0 \\end{bmatrix}$\n",
    "\n",
    "$A^T A$ becomes `4x4` matrix.\n",
    "\n",
    "$\\begin{bmatrix} 10 & 17 & 6 & 10 \\\\ 17 & 29 & 11 & 18 \\\\ 6 & 11 & 10 & 14 \\\\ 10 & 18 & 14 & 20 \\end{bmatrix}$\n",
    "\n",
    "Computing the inverse of a `4x4` matrix is easier than a `4x9` matrix\n"
   ]
  },
  {
   "cell_type": "code",
   "execution_count": 4,
   "id": "3b4f8791",
   "metadata": {},
   "outputs": [
    {
     "name": "stdout",
     "output_type": "stream",
     "text": [
      "[[ 0.27777778  0.38888889  0.22222222  0.27777778  0.          0.\n",
      "   0.          0.          0.        ]\n",
      " [ 0.44444444  0.67676768  0.4040404   0.50505051  0.          0.\n",
      "   0.          0.          0.        ]\n",
      " [-0.05555556  0.35858586  0.34343434  0.42929293  0.          0.\n",
      "   0.          0.          0.        ]\n",
      " [ 0.          0.54545455  0.48484848  0.60606061  0.          0.\n",
      "   0.          0.          0.        ]]\n"
     ]
    }
   ],
   "source": [
    "X = np.array([\n",
    "    [1, 0, 1, 1, 0, 0, 0, 10, 0],\n",
    "    [0, 1, 0, 0, 0, 2, 0, 0, 0],\n",
    "    [0, 1, 1, 0, 0, 0, 3, 0, 0],\n",
    "    [0, 0, 0, 1, 0, 3, 0, 9, 0],\n",
    "])\n",
    "\n",
    "A = np.array([\n",
    "    [1, 2, 3, 4],\n",
    "    [3, 5, 1, 2],\n",
    "])\n",
    "\n",
    "B = np.array([\n",
    "    [1, 5, 4, 5, 0, 0, 0, 0, 0],\n",
    "    [3, 6, 4, 5, 0, 0, 0, 0, 0]\n",
    "])\n",
    "\n",
    "X1 = nplinalg.lstsq(A, B, rcond=None)[0]\n",
    "\n",
    "print(X1)"
   ]
  },
  {
   "cell_type": "markdown",
   "id": "421c4e80",
   "metadata": {},
   "source": [
    "$X = \\begin{bmatrix} 0.27777778 &  0.38888889 & 0.22222222 & 0.27777778 & 0. &  0. &  0. & 0. & 0. \\\\ 0.44444444 & 0.67676768 & 0.4040404  & 0.50505051 & 0.  &  0. & 0. & 0. & 0. \\\\ -0.05555556 & 0.35858586 & 0.34343434 & 0.42929293 & 0. & 0. & 0. & 0. & 0. \\\\ 0. & 0.54545455 & 0.48484848 & 0.60606061 & 0. & 0. & 0. & 0. & 0. \\end{bmatrix}$\n",
    "\n",
    "There are also other solutions as well\n",
    "\n",
    "$\\begin{bmatrix} 1 & 2 & 3 & 4 \\\\ 3 & 5 & 1 & 2 \\end{bmatrix} . \\begin{bmatrix} 1 & 0 & 1 & 1 & 0 & 0 & 0 & 0 & 0 \\\\ 0 & 1 & 0 & 0 & 0 & 0 & 0 & 0 & 0 \\\\ 0 & 1 & 1 & 0 & 0 & 0 & 0 & 0 & 0 \\\\ 0 & 0 & 0 & 1 & 0 & 0 & 0 & 0 & 0 \\end{bmatrix} = \\begin{bmatrix} 1 & 5 & 4 & 5 & 0 & 0 & 0 & 0 & 0 \\\\ 3 & 6 & 4 & 5 & 0 & 0 & 0 & 0 & 0 \\end{bmatrix}$"
   ]
  }
 ],
 "metadata": {
  "kernelspec": {
   "display_name": "Python 3 (ipykernel)",
   "language": "python",
   "name": "python3"
  },
  "language_info": {
   "codemirror_mode": {
    "name": "ipython",
    "version": 3
   },
   "file_extension": ".py",
   "mimetype": "text/x-python",
   "name": "python",
   "nbconvert_exporter": "python",
   "pygments_lexer": "ipython3",
   "version": "3.8.10"
  }
 },
 "nbformat": 4,
 "nbformat_minor": 5
}
