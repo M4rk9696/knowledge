{
 "cells": [
  {
   "cell_type": "code",
   "execution_count": 1,
   "id": "404b0dca",
   "metadata": {
    "ExecuteTime": {
     "end_time": "2021-11-28T09:02:48.136568Z",
     "start_time": "2021-11-28T09:02:48.134902Z"
    }
   },
   "outputs": [],
   "source": [
    "#include <iostream>\n",
    "#include <string.h>"
   ]
  },
  {
   "cell_type": "code",
   "execution_count": 2,
   "id": "328883a9",
   "metadata": {
    "ExecuteTime": {
     "end_time": "2021-11-28T09:02:48.148746Z",
     "start_time": "2021-11-28T09:02:48.136672Z"
    }
   },
   "outputs": [],
   "source": [
    "#pragma cling add_include_path(\"/home/nimalanm/Documents/opt/include\")\n",
    "#pragma cling load(\"cfitsio\")\n",
    "\n",
    "#include \"fitsio.h\""
   ]
  },
  {
   "cell_type": "code",
   "execution_count": 3,
   "id": "c486eb2b",
   "metadata": {
    "ExecuteTime": {
     "end_time": "2021-11-28T09:02:48.149324Z",
     "start_time": "2021-11-28T09:02:48.148879Z"
    }
   },
   "outputs": [],
   "source": [
    "fitsfile *fptr;\n",
    "int status = 0;"
   ]
  },
  {
   "cell_type": "code",
   "execution_count": 4,
   "id": "a4d2686f",
   "metadata": {
    "ExecuteTime": {
     "end_time": "2021-11-28T09:02:48.149649Z",
     "start_time": "2021-11-28T09:02:48.149412Z"
    }
   },
   "outputs": [],
   "source": [
    "char card[FLEN_CARD];\n",
    "int single = 0, hdupos, nkeys, ii;"
   ]
  },
  {
   "cell_type": "code",
   "execution_count": 5,
   "id": "005a89ba",
   "metadata": {
    "ExecuteTime": {
     "end_time": "2021-11-28T09:02:48.150998Z",
     "start_time": "2021-11-28T09:02:48.149732Z"
    }
   },
   "outputs": [
    {
     "name": "stderr",
     "output_type": "stream",
     "text": [
      "\u001b[1minput_line_12:2:15: \u001b[0m\u001b[0;1;35mwarning: \u001b[0m\u001b[1mISO C++11 does not allow conversion from string literal to 'char *' [-Wwritable-strings]\u001b[0m\n",
      " char* file = \"image.i.08161181-7039447.taylor.0.restored.fits\";\n",
      "\u001b[0;1;32m              ^\n",
      "\u001b[0m"
     ]
    }
   ],
   "source": [
    "char* file = \"image.i.08161181-7039447.taylor.0.restored.fits\";"
   ]
  },
  {
   "cell_type": "code",
   "execution_count": 6,
   "id": "7830c908",
   "metadata": {
    "ExecuteTime": {
     "end_time": "2021-11-28T09:02:48.157474Z",
     "start_time": "2021-11-28T09:02:48.151063Z"
    }
   },
   "outputs": [
    {
     "name": "stdout",
     "output_type": "stream",
     "text": [
      "Header listing for HDU #1:\n",
      "SIMPLE  =                    T /Standard FITS\n",
      "BITPIX  =                  -32 /Floating point (32 bit)\n",
      "NAXIS   =                    4\n",
      "NAXIS1  =                 2048\n",
      "NAXIS2  =                 2048\n",
      "NAXIS3  =                    1\n",
      "NAXIS4  =                    1\n",
      "BSCALE  =   1.000000000000E+00 /PHYSICAL = PIXEL*BSCALE + BZERO\n",
      "BZERO   =   0.000000000000E+00\n",
      "\n",
      "BUNIT   = 'Jy/beam '           / Brightness (pixel) unit\n",
      "EQUINOX =   2.000000000000E+03\n",
      "RADESYS = 'FK5     '\n",
      "LONPOLE =   1.800000000000E+02\n",
      "LATPOLE =  -7.066242000000E+01\n",
      "PC1_1   =   1.000000000000E+00\n",
      "PC2_1   =   0.000000000000E+00\n",
      "PC3_1   =   0.000000000000E+00\n",
      "PC4_1   =   0.000000000000E+00\n",
      "PC1_2   =   0.000000000000E+00\n",
      "PC2_2   =   1.000000000000E+00\n",
      "PC3_2   =   0.000000000000E+00\n",
      "PC4_2   =   0.000000000000E+00\n",
      "PC1_3   =   0.000000000000E+00\n",
      "PC2_3   =   0.000000000000E+00\n",
      "PC3_3   =   1.000000000000E+00\n",
      "PC4_3   =   0.000000000000E+00\n",
      "PC1_4   =   0.000000000000E+00\n",
      "PC2_4   =   0.000000000000E+00\n",
      "PC3_4   =   0.000000000000E+00\n",
      "PC4_4   =   1.000000000000E+00\n",
      "CTYPE1  = 'RA---SIN'\n",
      "CRVAL1  =   1.240492200000E+02\n",
      "CDELT1  =  -2.777777777778E-04\n",
      "CRPIX1  =   1.025000000000E+03\n",
      "CUNIT1  = 'deg     '\n",
      "CTYPE2  = 'DEC--SIN'\n",
      "CRVAL2  =  -7.066242000000E+01\n",
      "CDELT2  =   2.777777777778E-04\n",
      "CRPIX2  =   1.025000000000E+03\n",
      "CUNIT2  = 'deg     '\n",
      "CTYPE3  = 'FREQ    '\n",
      "CRVAL3  =   1.443500000000E+09\n",
      "CDELT3  =   1.000000000000E+00\n",
      "CRPIX3  =   1.000000000000E+00\n",
      "CUNIT3  = 'Hz      '\n",
      "CTYPE4  = 'STOKES  '\n",
      "CRVAL4  =   1.000000000000E+00\n",
      "CDELT4  =   1.000000000000E+00\n",
      "CRPIX4  =   1.000000000000E+00\n",
      "CUNIT4  = '        '\n",
      "PV2_1   =   0.000000000000E+00\n",
      "PV2_2   =   0.000000000000E+00\n",
      "DATE    = '2021-11-23T07:51:26.773000' /Date FITS file was written\n",
      "TIMESYS = 'UTC     '           /Time system for HDU\n",
      "ORIGIN  = 'ASKAPsoft'\n",
      "BMAJ    =  0.00220110085398525 / Restoring beam major axis\n",
      "BMIN    =   0.0015889124506772 / Restoring beam minor axis\n",
      "BPA     =     3.37702454665012 / Restoring beam position angle\n",
      "BTYPE   = 'Intensity'          /\n",
      "END\n",
      "\n"
     ]
    }
   ],
   "source": [
    "try {\n",
    "    if (!fits_open_image(&fptr, file, READONLY, &status)) {\n",
    "        fits_get_hdu_num(fptr, &hdupos);\n",
    "\n",
    "        \n",
    "        fits_get_hdrspace(fptr, &nkeys, NULL, &status);\n",
    "\n",
    "        std::cout << \"Header listing for HDU #\" << hdupos << \":\" << std::endl;\n",
    "\n",
    "        for (ii = 1; ii <= nkeys; ii++) {\n",
    "\n",
    "            if (fits_read_record(fptr, ii, card, &status))break;\n",
    "            std::cout << card << std::endl;\n",
    "        }\n",
    "        std::cout << \"END\" << std::endl << std::endl;\n",
    "\n",
    "        if (status == END_OF_FILE)  status = 0;\n",
    "\n",
    "        fits_close_file(fptr, &status);\n",
    "    } else {\n",
    "        std::cout << \"Unable to open fits\" << std::endl;\n",
    "        throw 1;\n",
    "    }\n",
    "    \n",
    "} catch(int status) {\n",
    "    std::cout << \"Execution failed \" << status << std::endl;\n",
    "}\n"
   ]
  }
 ],
 "metadata": {
  "kernelspec": {
   "display_name": "C++14",
   "language": "C++14",
   "name": "xcpp14"
  },
  "language_info": {
   "codemirror_mode": "text/x-c++src",
   "file_extension": ".cpp",
   "mimetype": "text/x-c++src",
   "name": "c++",
   "version": "14"
  },
  "toc": {
   "base_numbering": 1,
   "nav_menu": {},
   "number_sections": true,
   "sideBar": true,
   "skip_h1_title": false,
   "title_cell": "Table of Contents",
   "title_sidebar": "Contents",
   "toc_cell": false,
   "toc_position": {},
   "toc_section_display": true,
   "toc_window_display": false
  }
 },
 "nbformat": 4,
 "nbformat_minor": 5
}
