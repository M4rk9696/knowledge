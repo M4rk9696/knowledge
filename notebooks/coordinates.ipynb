{
 "cells": [
  {
   "cell_type": "code",
   "execution_count": 2,
   "id": "3a4ae9c4",
   "metadata": {},
   "outputs": [
    {
     "name": "stdout",
     "output_type": "stream",
     "text": [
      "<SkyCoord (ICRS): (ra, dec) in deg\n",
      "    (294.85427796, -63.71267375)>\n",
      "<SkyCoord (ICRS): (ra, dec) in deg\n",
      "    (294.85430917, -63.71267306)>\n",
      "<SkyCoord (Galactic): (l, b) in deg\n",
      "    (332.74613275, -29.38935757)>\n",
      "<SkyCoord (FK5: equinox=J2000.000): (ra, dec) in deg\n",
      "    (294.85431547, -63.71266698)>\n",
      "<SkyCoord (ICRS): (ra, dec) in deg\n",
      "    (294.85427917, -63.71266944)>\n"
     ]
    }
   ],
   "source": [
    "# Sky Coordinates\n",
    "# Sky position can be represented in ICRS (Right ascension [RA], Declination [Dec])\n",
    "from astropy import units as u\n",
    "from astropy.coordinates import SkyCoord\n",
    "\n",
    "pks_1934_638 = SkyCoord.from_name(\"PKS 1934-638\")\n",
    "print(pks_1934_638)\n",
    "\n",
    "c_icrs = SkyCoord(-1.1370067985279546, -1.1119959200661205, unit='rad')\n",
    "\n",
    "print(c_icrs)\n",
    "\n",
    "# Galactic format\n",
    "print(c_icrs.galactic)\n",
    "\n",
    "# fk5 format\n",
    "c_fk5 = c_icrs.transform_to('fk5')\n",
    "print(c_fk5)\n",
    "\n",
    "# direction\n",
    "d = SkyCoord('19h39m25.027', '-63 42 45.61', unit=(u.hourangle, u.deg))\n",
    "print(d)\n",
    "\n"
   ]
  },
  {
   "cell_type": "code",
   "execution_count": null,
   "id": "82152e1e",
   "metadata": {},
   "outputs": [],
   "source": []
  }
 ],
 "metadata": {
  "kernelspec": {
   "display_name": "Python 3 (ipykernel)",
   "language": "python",
   "name": "python3"
  },
  "language_info": {
   "codemirror_mode": {
    "name": "ipython",
    "version": 3
   },
   "file_extension": ".py",
   "mimetype": "text/x-python",
   "name": "python",
   "nbconvert_exporter": "python",
   "pygments_lexer": "ipython3",
   "version": "3.9.7"
  }
 },
 "nbformat": 4,
 "nbformat_minor": 5
}
